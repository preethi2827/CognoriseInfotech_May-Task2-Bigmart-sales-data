{
  "metadata": {
    "kernelspec": {
      "name": "python",
      "display_name": "Python (Pyodide)",
      "language": "python"
    },
    "language_info": {
      "codemirror_mode": {
        "name": "python",
        "version": 3
      },
      "file_extension": ".py",
      "mimetype": "text/x-python",
      "name": "python",
      "nbconvert_exporter": "python",
      "pygments_lexer": "ipython3",
      "version": "3.8"
    }
  },
  "nbformat_minor": 4,
  "nbformat": 4,
  "cells": [
    {
      "cell_type": "code",
      "source": "# PROBLEM STATEMENT\n#BigMart Sales Data provides a detailed view of retail operations, including item specifics, outlet details, and sales labels. This dataset empowers businesses to\n#strategically tailor product modifications and marketing efforts by understanding customer preferences and optimizing resources based on outlet types and sales trends.\n#With insights into diverse factors such as outlet size, location, and establishment year, businesses can make informed decisions to enhance customer engagement and maximize the impact of their retail strategies.",
      "metadata": {
        "trusted": true
      },
      "outputs": [],
      "execution_count": null
    },
    {
      "cell_type": "code",
      "source": "# Filtering the warnings\n\nimport warnings\nwarnings.filterwarnings('ignore')",
      "metadata": {
        "trusted": true
      },
      "outputs": [],
      "execution_count": null
    },
    {
      "cell_type": "code",
      "source": "# Importing all the necessary libraries\n\nimport numpy as np\nimport pandas as pd\n\nimport matplotlib.pyplot as plt\n%matplotlib inline",
      "metadata": {
        "trusted": true
      },
      "outputs": [],
      "execution_count": 32
    },
    {
      "cell_type": "code",
      "source": "# Importing all the necessary libraries\n\n# Library for modelling\nimport statsmodels.api as sm\n\n# Library for train test split\nfrom sklearn.model_selection import train_test_split\n\n# Library for Linear Regression\nfrom sklearn.linear_model import LinearRegression\nfrom sklearn.metrics import mean_squared_error\nfrom sklearn.metrics import r2_score\nfrom sklearn.feature_selection import RFE\n\n# Library for scaling\nfrom sklearn.preprocessing import MinMaxScaler\n\n# Library for Variance Inflation Factor\nfrom statsmodels.stats.outliers_influence import variance_inflation_factor",
      "metadata": {
        "trusted": true
      },
      "outputs": [],
      "execution_count": 3
    },
    {
      "cell_type": "code",
      "source": "#Reading the data set \ntrain = pd.read_csv(\"Train.csv\")\ntest = pd.read_csv(\"Test.csv\")",
      "metadata": {
        "trusted": true
      },
      "outputs": [],
      "execution_count": 4
    },
    {
      "cell_type": "code",
      "source": "train.head()",
      "metadata": {
        "trusted": true
      },
      "outputs": [
        {
          "execution_count": 7,
          "output_type": "execute_result",
          "data": {
            "text/plain": "  Item_Identifier  Item_Weight Item_Fat_Content  Item_Visibility  \\\n0           FDA15         9.30          Low Fat         0.016047   \n1           DRC01         5.92          Regular         0.019278   \n2           FDN15        17.50          Low Fat         0.016760   \n3           FDX07        19.20          Regular         0.000000   \n4           NCD19         8.93          Low Fat         0.000000   \n\n               Item_Type  Item_MRP Outlet_Identifier  \\\n0                  Dairy  249.8092            OUT049   \n1            Soft Drinks   48.2692            OUT018   \n2                   Meat  141.6180            OUT049   \n3  Fruits and Vegetables  182.0950            OUT010   \n4              Household   53.8614            OUT013   \n\n   Outlet_Establishment_Year Outlet_Size Outlet_Location_Type  \\\n0                       1999      Medium               Tier 1   \n1                       2009      Medium               Tier 3   \n2                       1999      Medium               Tier 1   \n3                       1998         NaN               Tier 3   \n4                       1987        High               Tier 3   \n\n         Outlet_Type  Item_Outlet_Sales  \n0  Supermarket Type1          3735.1380  \n1  Supermarket Type2           443.4228  \n2  Supermarket Type1          2097.2700  \n3      Grocery Store           732.3800  \n4  Supermarket Type1           994.7052  ",
            "text/html": "<div>\n<style scoped>\n    .dataframe tbody tr th:only-of-type {\n        vertical-align: middle;\n    }\n\n    .dataframe tbody tr th {\n        vertical-align: top;\n    }\n\n    .dataframe thead th {\n        text-align: right;\n    }\n</style>\n<table border=\"1\" class=\"dataframe\">\n  <thead>\n    <tr style=\"text-align: right;\">\n      <th></th>\n      <th>Item_Identifier</th>\n      <th>Item_Weight</th>\n      <th>Item_Fat_Content</th>\n      <th>Item_Visibility</th>\n      <th>Item_Type</th>\n      <th>Item_MRP</th>\n      <th>Outlet_Identifier</th>\n      <th>Outlet_Establishment_Year</th>\n      <th>Outlet_Size</th>\n      <th>Outlet_Location_Type</th>\n      <th>Outlet_Type</th>\n      <th>Item_Outlet_Sales</th>\n    </tr>\n  </thead>\n  <tbody>\n    <tr>\n      <th>0</th>\n      <td>FDA15</td>\n      <td>9.30</td>\n      <td>Low Fat</td>\n      <td>0.016047</td>\n      <td>Dairy</td>\n      <td>249.8092</td>\n      <td>OUT049</td>\n      <td>1999</td>\n      <td>Medium</td>\n      <td>Tier 1</td>\n      <td>Supermarket Type1</td>\n      <td>3735.1380</td>\n    </tr>\n    <tr>\n      <th>1</th>\n      <td>DRC01</td>\n      <td>5.92</td>\n      <td>Regular</td>\n      <td>0.019278</td>\n      <td>Soft Drinks</td>\n      <td>48.2692</td>\n      <td>OUT018</td>\n      <td>2009</td>\n      <td>Medium</td>\n      <td>Tier 3</td>\n      <td>Supermarket Type2</td>\n      <td>443.4228</td>\n    </tr>\n    <tr>\n      <th>2</th>\n      <td>FDN15</td>\n      <td>17.50</td>\n      <td>Low Fat</td>\n      <td>0.016760</td>\n      <td>Meat</td>\n      <td>141.6180</td>\n      <td>OUT049</td>\n      <td>1999</td>\n      <td>Medium</td>\n      <td>Tier 1</td>\n      <td>Supermarket Type1</td>\n      <td>2097.2700</td>\n    </tr>\n    <tr>\n      <th>3</th>\n      <td>FDX07</td>\n      <td>19.20</td>\n      <td>Regular</td>\n      <td>0.000000</td>\n      <td>Fruits and Vegetables</td>\n      <td>182.0950</td>\n      <td>OUT010</td>\n      <td>1998</td>\n      <td>NaN</td>\n      <td>Tier 3</td>\n      <td>Grocery Store</td>\n      <td>732.3800</td>\n    </tr>\n    <tr>\n      <th>4</th>\n      <td>NCD19</td>\n      <td>8.93</td>\n      <td>Low Fat</td>\n      <td>0.000000</td>\n      <td>Household</td>\n      <td>53.8614</td>\n      <td>OUT013</td>\n      <td>1987</td>\n      <td>High</td>\n      <td>Tier 3</td>\n      <td>Supermarket Type1</td>\n      <td>994.7052</td>\n    </tr>\n  </tbody>\n</table>\n</div>"
          },
          "metadata": {}
        }
      ],
      "execution_count": 7
    },
    {
      "cell_type": "code",
      "source": "test.head()",
      "metadata": {
        "trusted": true
      },
      "outputs": [
        {
          "execution_count": 8,
          "output_type": "execute_result",
          "data": {
            "text/plain": "  Item_Identifier  Item_Weight Item_Fat_Content  Item_Visibility    Item_Type  \\\n0           FDW58       20.750          Low Fat         0.007565  Snack Foods   \n1           FDW14        8.300              reg         0.038428        Dairy   \n2           NCN55       14.600          Low Fat         0.099575       Others   \n3           FDQ58        7.315          Low Fat         0.015388  Snack Foods   \n4           FDY38          NaN          Regular         0.118599        Dairy   \n\n   Item_MRP Outlet_Identifier  Outlet_Establishment_Year Outlet_Size  \\\n0  107.8622            OUT049                       1999      Medium   \n1   87.3198            OUT017                       2007         NaN   \n2  241.7538            OUT010                       1998         NaN   \n3  155.0340            OUT017                       2007         NaN   \n4  234.2300            OUT027                       1985      Medium   \n\n  Outlet_Location_Type        Outlet_Type  \n0               Tier 1  Supermarket Type1  \n1               Tier 2  Supermarket Type1  \n2               Tier 3      Grocery Store  \n3               Tier 2  Supermarket Type1  \n4               Tier 3  Supermarket Type3  ",
            "text/html": "<div>\n<style scoped>\n    .dataframe tbody tr th:only-of-type {\n        vertical-align: middle;\n    }\n\n    .dataframe tbody tr th {\n        vertical-align: top;\n    }\n\n    .dataframe thead th {\n        text-align: right;\n    }\n</style>\n<table border=\"1\" class=\"dataframe\">\n  <thead>\n    <tr style=\"text-align: right;\">\n      <th></th>\n      <th>Item_Identifier</th>\n      <th>Item_Weight</th>\n      <th>Item_Fat_Content</th>\n      <th>Item_Visibility</th>\n      <th>Item_Type</th>\n      <th>Item_MRP</th>\n      <th>Outlet_Identifier</th>\n      <th>Outlet_Establishment_Year</th>\n      <th>Outlet_Size</th>\n      <th>Outlet_Location_Type</th>\n      <th>Outlet_Type</th>\n    </tr>\n  </thead>\n  <tbody>\n    <tr>\n      <th>0</th>\n      <td>FDW58</td>\n      <td>20.750</td>\n      <td>Low Fat</td>\n      <td>0.007565</td>\n      <td>Snack Foods</td>\n      <td>107.8622</td>\n      <td>OUT049</td>\n      <td>1999</td>\n      <td>Medium</td>\n      <td>Tier 1</td>\n      <td>Supermarket Type1</td>\n    </tr>\n    <tr>\n      <th>1</th>\n      <td>FDW14</td>\n      <td>8.300</td>\n      <td>reg</td>\n      <td>0.038428</td>\n      <td>Dairy</td>\n      <td>87.3198</td>\n      <td>OUT017</td>\n      <td>2007</td>\n      <td>NaN</td>\n      <td>Tier 2</td>\n      <td>Supermarket Type1</td>\n    </tr>\n    <tr>\n      <th>2</th>\n      <td>NCN55</td>\n      <td>14.600</td>\n      <td>Low Fat</td>\n      <td>0.099575</td>\n      <td>Others</td>\n      <td>241.7538</td>\n      <td>OUT010</td>\n      <td>1998</td>\n      <td>NaN</td>\n      <td>Tier 3</td>\n      <td>Grocery Store</td>\n    </tr>\n    <tr>\n      <th>3</th>\n      <td>FDQ58</td>\n      <td>7.315</td>\n      <td>Low Fat</td>\n      <td>0.015388</td>\n      <td>Snack Foods</td>\n      <td>155.0340</td>\n      <td>OUT017</td>\n      <td>2007</td>\n      <td>NaN</td>\n      <td>Tier 2</td>\n      <td>Supermarket Type1</td>\n    </tr>\n    <tr>\n      <th>4</th>\n      <td>FDY38</td>\n      <td>NaN</td>\n      <td>Regular</td>\n      <td>0.118599</td>\n      <td>Dairy</td>\n      <td>234.2300</td>\n      <td>OUT027</td>\n      <td>1985</td>\n      <td>Medium</td>\n      <td>Tier 3</td>\n      <td>Supermarket Type3</td>\n    </tr>\n  </tbody>\n</table>\n</div>"
          },
          "metadata": {}
        }
      ],
      "execution_count": 8
    },
    {
      "cell_type": "code",
      "source": "#Adding a ‘source’ column specifying where each observation belongs\ntrain['source']='train'\ntest['source']='test'\n\n#combining the dataframes into one dataset\ndata = pd.concat([train, test],ignore_index=True)\n\nprint(train.shape, test.shape, data.shape)",
      "metadata": {
        "trusted": true
      },
      "outputs": [
        {
          "name": "stdout",
          "text": "(8523, 13) (5681, 12) (14204, 13)\n",
          "output_type": "stream"
        }
      ],
      "execution_count": 9
    },
    {
      "cell_type": "code",
      "source": "#Checking the first 5 rows of the data set\ndata.head()",
      "metadata": {
        "trusted": true
      },
      "outputs": [
        {
          "execution_count": 10,
          "output_type": "execute_result",
          "data": {
            "text/plain": "  Item_Identifier  Item_Weight Item_Fat_Content  Item_Visibility  \\\n0           FDA15         9.30          Low Fat         0.016047   \n1           DRC01         5.92          Regular         0.019278   \n2           FDN15        17.50          Low Fat         0.016760   \n3           FDX07        19.20          Regular         0.000000   \n4           NCD19         8.93          Low Fat         0.000000   \n\n               Item_Type  Item_MRP Outlet_Identifier  \\\n0                  Dairy  249.8092            OUT049   \n1            Soft Drinks   48.2692            OUT018   \n2                   Meat  141.6180            OUT049   \n3  Fruits and Vegetables  182.0950            OUT010   \n4              Household   53.8614            OUT013   \n\n   Outlet_Establishment_Year Outlet_Size Outlet_Location_Type  \\\n0                       1999      Medium               Tier 1   \n1                       2009      Medium               Tier 3   \n2                       1999      Medium               Tier 1   \n3                       1998         NaN               Tier 3   \n4                       1987        High               Tier 3   \n\n         Outlet_Type  Item_Outlet_Sales source  \n0  Supermarket Type1          3735.1380  train  \n1  Supermarket Type2           443.4228  train  \n2  Supermarket Type1          2097.2700  train  \n3      Grocery Store           732.3800  train  \n4  Supermarket Type1           994.7052  train  ",
            "text/html": "<div>\n<style scoped>\n    .dataframe tbody tr th:only-of-type {\n        vertical-align: middle;\n    }\n\n    .dataframe tbody tr th {\n        vertical-align: top;\n    }\n\n    .dataframe thead th {\n        text-align: right;\n    }\n</style>\n<table border=\"1\" class=\"dataframe\">\n  <thead>\n    <tr style=\"text-align: right;\">\n      <th></th>\n      <th>Item_Identifier</th>\n      <th>Item_Weight</th>\n      <th>Item_Fat_Content</th>\n      <th>Item_Visibility</th>\n      <th>Item_Type</th>\n      <th>Item_MRP</th>\n      <th>Outlet_Identifier</th>\n      <th>Outlet_Establishment_Year</th>\n      <th>Outlet_Size</th>\n      <th>Outlet_Location_Type</th>\n      <th>Outlet_Type</th>\n      <th>Item_Outlet_Sales</th>\n      <th>source</th>\n    </tr>\n  </thead>\n  <tbody>\n    <tr>\n      <th>0</th>\n      <td>FDA15</td>\n      <td>9.30</td>\n      <td>Low Fat</td>\n      <td>0.016047</td>\n      <td>Dairy</td>\n      <td>249.8092</td>\n      <td>OUT049</td>\n      <td>1999</td>\n      <td>Medium</td>\n      <td>Tier 1</td>\n      <td>Supermarket Type1</td>\n      <td>3735.1380</td>\n      <td>train</td>\n    </tr>\n    <tr>\n      <th>1</th>\n      <td>DRC01</td>\n      <td>5.92</td>\n      <td>Regular</td>\n      <td>0.019278</td>\n      <td>Soft Drinks</td>\n      <td>48.2692</td>\n      <td>OUT018</td>\n      <td>2009</td>\n      <td>Medium</td>\n      <td>Tier 3</td>\n      <td>Supermarket Type2</td>\n      <td>443.4228</td>\n      <td>train</td>\n    </tr>\n    <tr>\n      <th>2</th>\n      <td>FDN15</td>\n      <td>17.50</td>\n      <td>Low Fat</td>\n      <td>0.016760</td>\n      <td>Meat</td>\n      <td>141.6180</td>\n      <td>OUT049</td>\n      <td>1999</td>\n      <td>Medium</td>\n      <td>Tier 1</td>\n      <td>Supermarket Type1</td>\n      <td>2097.2700</td>\n      <td>train</td>\n    </tr>\n    <tr>\n      <th>3</th>\n      <td>FDX07</td>\n      <td>19.20</td>\n      <td>Regular</td>\n      <td>0.000000</td>\n      <td>Fruits and Vegetables</td>\n      <td>182.0950</td>\n      <td>OUT010</td>\n      <td>1998</td>\n      <td>NaN</td>\n      <td>Tier 3</td>\n      <td>Grocery Store</td>\n      <td>732.3800</td>\n      <td>train</td>\n    </tr>\n    <tr>\n      <th>4</th>\n      <td>NCD19</td>\n      <td>8.93</td>\n      <td>Low Fat</td>\n      <td>0.000000</td>\n      <td>Household</td>\n      <td>53.8614</td>\n      <td>OUT013</td>\n      <td>1987</td>\n      <td>High</td>\n      <td>Tier 3</td>\n      <td>Supermarket Type1</td>\n      <td>994.7052</td>\n      <td>train</td>\n    </tr>\n  </tbody>\n</table>\n</div>"
          },
          "metadata": {}
        }
      ],
      "execution_count": 10
    },
    {
      "cell_type": "code",
      "source": "#Determining the shape of the datset\ndata.shape",
      "metadata": {
        "trusted": true
      },
      "outputs": [
        {
          "execution_count": 11,
          "output_type": "execute_result",
          "data": {
            "text/plain": "(14204, 13)"
          },
          "metadata": {}
        }
      ],
      "execution_count": 11
    },
    {
      "cell_type": "code",
      "source": "#Inspecting the dataset\n\ndata.info()",
      "metadata": {
        "trusted": true
      },
      "outputs": [
        {
          "name": "stdout",
          "text": "<class 'pandas.core.frame.DataFrame'>\nRangeIndex: 14204 entries, 0 to 14203\nData columns (total 13 columns):\n #   Column                     Non-Null Count  Dtype  \n---  ------                     --------------  -----  \n 0   Item_Identifier            14204 non-null  object \n 1   Item_Weight                11765 non-null  float64\n 2   Item_Fat_Content           14204 non-null  object \n 3   Item_Visibility            14204 non-null  float64\n 4   Item_Type                  14204 non-null  object \n 5   Item_MRP                   14204 non-null  float64\n 6   Outlet_Identifier          14204 non-null  object \n 7   Outlet_Establishment_Year  14204 non-null  int64  \n 8   Outlet_Size                10188 non-null  object \n 9   Outlet_Location_Type       14204 non-null  object \n 10  Outlet_Type                14204 non-null  object \n 11  Item_Outlet_Sales          8523 non-null   float64\n 12  source                     14204 non-null  object \ndtypes: float64(4), int64(1), object(8)\nmemory usage: 998.8+ KB\n",
          "output_type": "stream"
        }
      ],
      "execution_count": 12
    },
    {
      "cell_type": "code",
      "source": "#Checking for count of missing values in each column\n(data.isnull().sum())",
      "metadata": {
        "trusted": true
      },
      "outputs": [
        {
          "execution_count": 13,
          "output_type": "execute_result",
          "data": {
            "text/plain": "Item_Identifier                 0\nItem_Weight                  2439\nItem_Fat_Content                0\nItem_Visibility                 0\nItem_Type                       0\nItem_MRP                        0\nOutlet_Identifier               0\nOutlet_Establishment_Year       0\nOutlet_Size                  4016\nOutlet_Location_Type            0\nOutlet_Type                     0\nItem_Outlet_Sales            5681\nsource                          0\ndtype: int64"
          },
          "metadata": {}
        }
      ],
      "execution_count": 13
    },
    {
      "cell_type": "code",
      "source": "#Lets look at some basic statistics for numerical variables\n\ndata.describe()",
      "metadata": {
        "trusted": true
      },
      "outputs": [
        {
          "execution_count": 14,
          "output_type": "execute_result",
          "data": {
            "text/plain": "        Item_Weight  Item_Visibility      Item_MRP  Outlet_Establishment_Year  \\\ncount  11765.000000     14204.000000  14204.000000               14204.000000   \nmean      12.792854         0.065953    141.004977                1997.830681   \nstd        4.652502         0.051459     62.086938                   8.371664   \nmin        4.555000         0.000000     31.290000                1985.000000   \n25%        8.710000         0.027036     94.012000                1987.000000   \n50%       12.600000         0.054021    142.247000                1999.000000   \n75%       16.750000         0.094037    185.855600                2004.000000   \nmax       21.350000         0.328391    266.888400                2009.000000   \n\n       Item_Outlet_Sales  \ncount        8523.000000  \nmean         2181.288914  \nstd          1706.499616  \nmin            33.290000  \n25%           834.247400  \n50%          1794.331000  \n75%          3101.296400  \nmax         13086.964800  ",
            "text/html": "<div>\n<style scoped>\n    .dataframe tbody tr th:only-of-type {\n        vertical-align: middle;\n    }\n\n    .dataframe tbody tr th {\n        vertical-align: top;\n    }\n\n    .dataframe thead th {\n        text-align: right;\n    }\n</style>\n<table border=\"1\" class=\"dataframe\">\n  <thead>\n    <tr style=\"text-align: right;\">\n      <th></th>\n      <th>Item_Weight</th>\n      <th>Item_Visibility</th>\n      <th>Item_MRP</th>\n      <th>Outlet_Establishment_Year</th>\n      <th>Item_Outlet_Sales</th>\n    </tr>\n  </thead>\n  <tbody>\n    <tr>\n      <th>count</th>\n      <td>11765.000000</td>\n      <td>14204.000000</td>\n      <td>14204.000000</td>\n      <td>14204.000000</td>\n      <td>8523.000000</td>\n    </tr>\n    <tr>\n      <th>mean</th>\n      <td>12.792854</td>\n      <td>0.065953</td>\n      <td>141.004977</td>\n      <td>1997.830681</td>\n      <td>2181.288914</td>\n    </tr>\n    <tr>\n      <th>std</th>\n      <td>4.652502</td>\n      <td>0.051459</td>\n      <td>62.086938</td>\n      <td>8.371664</td>\n      <td>1706.499616</td>\n    </tr>\n    <tr>\n      <th>min</th>\n      <td>4.555000</td>\n      <td>0.000000</td>\n      <td>31.290000</td>\n      <td>1985.000000</td>\n      <td>33.290000</td>\n    </tr>\n    <tr>\n      <th>25%</th>\n      <td>8.710000</td>\n      <td>0.027036</td>\n      <td>94.012000</td>\n      <td>1987.000000</td>\n      <td>834.247400</td>\n    </tr>\n    <tr>\n      <th>50%</th>\n      <td>12.600000</td>\n      <td>0.054021</td>\n      <td>142.247000</td>\n      <td>1999.000000</td>\n      <td>1794.331000</td>\n    </tr>\n    <tr>\n      <th>75%</th>\n      <td>16.750000</td>\n      <td>0.094037</td>\n      <td>185.855600</td>\n      <td>2004.000000</td>\n      <td>3101.296400</td>\n    </tr>\n    <tr>\n      <th>max</th>\n      <td>21.350000</td>\n      <td>0.328391</td>\n      <td>266.888400</td>\n      <td>2009.000000</td>\n      <td>13086.964800</td>\n    </tr>\n  </tbody>\n</table>\n</div>"
          },
          "metadata": {}
        }
      ],
      "execution_count": 14
    },
    {
      "cell_type": "code",
      "source": "#Lets look at number of unique values in categorical columns\n\ndata.nunique()",
      "metadata": {
        "trusted": true
      },
      "outputs": [
        {
          "execution_count": 15,
          "output_type": "execute_result",
          "data": {
            "text/plain": "Item_Identifier               1559\nItem_Weight                    415\nItem_Fat_Content                 5\nItem_Visibility              13006\nItem_Type                       16\nItem_MRP                      8052\nOutlet_Identifier               10\nOutlet_Establishment_Year        9\nOutlet_Size                      3\nOutlet_Location_Type             3\nOutlet_Type                      4\nItem_Outlet_Sales             3493\nsource                           2\ndtype: int64"
          },
          "metadata": {}
        }
      ],
      "execution_count": 15
    },
    {
      "cell_type": "code",
      "source": "#Data purify and EDA",
      "metadata": {
        "trusted": true
      },
      "outputs": [],
      "execution_count": null
    },
    {
      "cell_type": "code",
      "source": "\ndata.info()",
      "metadata": {
        "trusted": true
      },
      "outputs": [
        {
          "name": "stdout",
          "text": "<class 'pandas.core.frame.DataFrame'>\nRangeIndex: 14204 entries, 0 to 14203\nData columns (total 13 columns):\n #   Column                     Non-Null Count  Dtype  \n---  ------                     --------------  -----  \n 0   Item_Identifier            14204 non-null  object \n 1   Item_Weight                11765 non-null  float64\n 2   Item_Fat_Content           14204 non-null  object \n 3   Item_Visibility            14204 non-null  float64\n 4   Item_Type                  14204 non-null  object \n 5   Item_MRP                   14204 non-null  float64\n 6   Outlet_Identifier          14204 non-null  object \n 7   Outlet_Establishment_Year  14204 non-null  int64  \n 8   Outlet_Size                10188 non-null  object \n 9   Outlet_Location_Type       14204 non-null  object \n 10  Outlet_Type                14204 non-null  object \n 11  Item_Outlet_Sales          8523 non-null   float64\n 12  source                     14204 non-null  object \ndtypes: float64(4), int64(1), object(8)\nmemory usage: 998.8+ KB\n",
          "output_type": "stream"
        }
      ],
      "execution_count": 16
    },
    {
      "cell_type": "code",
      "source": "'Item_Weight' column:\n",
      "metadata": {
        "trusted": true
      },
      "outputs": [],
      "execution_count": null
    },
    {
      "cell_type": "code",
      "source": "# checking the number of missing values\ndata.Item_Weight.isnull().sum()",
      "metadata": {
        "trusted": true
      },
      "outputs": [
        {
          "execution_count": 17,
          "output_type": "execute_result",
          "data": {
            "text/plain": "2439"
          },
          "metadata": {}
        }
      ],
      "execution_count": 17
    },
    {
      "cell_type": "code",
      "source": "data[\"Item_Weight\"].fillna(data.groupby(by ='Item_Identifier')['Item_Weight'].transform('mean'), inplace=True)\n\n#Checking the number of missing values\ndata.Item_Weight.isnull().sum()",
      "metadata": {
        "trusted": true
      },
      "outputs": [
        {
          "execution_count": 18,
          "output_type": "execute_result",
          "data": {
            "text/plain": "0"
          },
          "metadata": {}
        }
      ],
      "execution_count": 18
    },
    {
      "cell_type": "code",
      "source": "'Item_Fat_Content' column:",
      "metadata": {
        "trusted": true
      },
      "outputs": [],
      "execution_count": null
    },
    {
      "cell_type": "code",
      "source": "# checking the count of values\ndata.Item_Fat_Content.value_counts()",
      "metadata": {
        "trusted": true
      },
      "outputs": [
        {
          "execution_count": 19,
          "output_type": "execute_result",
          "data": {
            "text/plain": "Low Fat    8485\nRegular    4824\nLF          522\nreg         195\nlow fat     178\nName: Item_Fat_Content, dtype: int64"
          },
          "metadata": {}
        }
      ],
      "execution_count": 19
    },
    {
      "cell_type": "code",
      "source": "#replacing 'LF' and 'low fat' with 'Low Fat'\n#replacing 'reg' with 'Regular'\ndata['Item_Fat_Content'] = data['Item_Fat_Content'].replace({'LF':'Low Fat','reg':'Regular','low fat':'Low Fat'})\n\n# checking if replacement has taken place or not\ndata.Item_Fat_Content.value_counts()\n",
      "metadata": {
        "trusted": true
      },
      "outputs": [
        {
          "execution_count": 20,
          "output_type": "execute_result",
          "data": {
            "text/plain": "Low Fat    9185\nRegular    5019\nName: Item_Fat_Content, dtype: int64"
          },
          "metadata": {}
        }
      ],
      "execution_count": 20
    },
    {
      "cell_type": "code",
      "source": "'Item_Visibility' column:",
      "metadata": {
        "trusted": true
      },
      "outputs": [],
      "execution_count": null
    },
    {
      "cell_type": "code",
      "source": "#Replacing 0 with 'NaN'\ndata['Item_Visibility'] = data['Item_Visibility'].replace(0,np.NaN)",
      "metadata": {
        "trusted": true
      },
      "outputs": [],
      "execution_count": null
    },
    {
      "cell_type": "code",
      "source": "#imputing the mean visibility of that product\ndata['Item_Visibility'].fillna(data.groupby(by ='Item_Identifier')['Item_Visibility'].transform('mean'),inplace = True)",
      "metadata": {
        "trusted": true
      },
      "outputs": [],
      "execution_count": null
    },
    {
      "cell_type": "code",
      "source": "#Checking the number of missing values\ndata.Item_Visibility.isnull().sum()",
      "metadata": {
        "trusted": true
      },
      "outputs": [
        {
          "execution_count": 21,
          "output_type": "execute_result",
          "data": {
            "text/plain": "0"
          },
          "metadata": {}
        }
      ],
      "execution_count": 21
    },
    {
      "cell_type": "code",
      "source": "'Item_Type' column:",
      "metadata": {
        "trusted": true
      },
      "outputs": [],
      "execution_count": null
    },
    {
      "cell_type": "code",
      "source": "# checking the count of values\ndata.Item_Type.value_counts()",
      "metadata": {
        "trusted": true
      },
      "outputs": [
        {
          "execution_count": 22,
          "output_type": "execute_result",
          "data": {
            "text/plain": "Fruits and Vegetables    2013\nSnack Foods              1989\nHousehold                1548\nFrozen Foods             1426\nDairy                    1136\nBaking Goods             1086\nCanned                   1084\nHealth and Hygiene        858\nMeat                      736\nSoft Drinks               726\nBreads                    416\nHard Drinks               362\nOthers                    280\nStarchy Foods             269\nBreakfast                 186\nSeafood                    89\nName: Item_Type, dtype: int64"
          },
          "metadata": {}
        }
      ],
      "execution_count": 22
    },
    {
      "cell_type": "code",
      "source": "#Get the first two characters of ID:\ndata['Item_Type_Combined'] = data['Item_Identifier'].apply(lambda x: x[0:2])\n\n#Rename them to more intuitive categories:\ndata['Item_Type_Combined'] = data['Item_Type_Combined'].map({'FD':'Food','NC':'Non-Consumable','DR':'Drinks'})\n\n# checking the count of values\ndata['Item_Type_Combined'].value_counts()",
      "metadata": {
        "trusted": true
      },
      "outputs": [
        {
          "execution_count": 23,
          "output_type": "execute_result",
          "data": {
            "text/plain": "Food              10201\nNon-Consumable     2686\nDrinks             1317\nName: Item_Type_Combined, dtype: int64"
          },
          "metadata": {}
        }
      ],
      "execution_count": 23
    },
    {
      "cell_type": "code",
      "source": "#creating a separate category for non-consumable products in fat content column\n\ndata.loc[data['Item_Type_Combined']==\"Non-Consumable\",'Item_Fat_Content'] = \"Non-Edible\"\ndata['Item_Fat_Content'].value_counts()",
      "metadata": {
        "trusted": true
      },
      "outputs": [
        {
          "execution_count": 24,
          "output_type": "execute_result",
          "data": {
            "text/plain": "Low Fat       6499\nRegular       5019\nNon-Edible    2686\nName: Item_Fat_Content, dtype: int64"
          },
          "metadata": {}
        }
      ],
      "execution_count": 24
    },
    {
      "cell_type": "code",
      "source": "'Outlet_Size' column:",
      "metadata": {
        "trusted": true
      },
      "outputs": [],
      "execution_count": null
    },
    {
      "cell_type": "code",
      "source": "# checking the count of values\ndata.Outlet_Size.value_counts()",
      "metadata": {
        "trusted": true
      },
      "outputs": [
        {
          "execution_count": 25,
          "output_type": "execute_result",
          "data": {
            "text/plain": "Medium    4655\nSmall     3980\nHigh      1553\nName: Outlet_Size, dtype: int64"
          },
          "metadata": {}
        }
      ],
      "execution_count": 25
    },
    {
      "cell_type": "code",
      "source": "'Outlet_Location_Type' column:",
      "metadata": {
        "trusted": true
      },
      "outputs": [],
      "execution_count": null
    },
    {
      "cell_type": "code",
      "source": "# checking the count of values\ndata.Outlet_Location_Type.value_counts()",
      "metadata": {
        "trusted": true
      },
      "outputs": [
        {
          "execution_count": 26,
          "output_type": "execute_result",
          "data": {
            "text/plain": "Tier 3    5583\nTier 2    4641\nTier 1    3980\nName: Outlet_Location_Type, dtype: int64"
          },
          "metadata": {}
        }
      ],
      "execution_count": 26
    },
    {
      "cell_type": "code",
      "source": "'Outlet_Type' column:",
      "metadata": {
        "trusted": true
      },
      "outputs": [],
      "execution_count": null
    },
    {
      "cell_type": "code",
      "source": "# checking the count of values\ndata.Outlet_Type.value_counts()",
      "metadata": {
        "trusted": true
      },
      "outputs": [
        {
          "execution_count": 27,
          "output_type": "execute_result",
          "data": {
            "text/plain": "Supermarket Type1    9294\nGrocery Store        1805\nSupermarket Type3    1559\nSupermarket Type2    1546\nName: Outlet_Type, dtype: int64"
          },
          "metadata": {}
        }
      ],
      "execution_count": 27
    },
    {
      "cell_type": "code",
      "source": "'Outlet_Establishment_Year' column:",
      "metadata": {
        "trusted": true
      },
      "outputs": [],
      "execution_count": null
    },
    {
      "cell_type": "code",
      "source": "data['Outlet_Years'] = 2013 - data['Outlet_Establishment_Year']\ndata['Outlet_Years'].describe()",
      "metadata": {
        "trusted": true
      },
      "outputs": [
        {
          "execution_count": 28,
          "output_type": "execute_result",
          "data": {
            "text/plain": "count    14204.000000\nmean        15.169319\nstd          8.371664\nmin          4.000000\n25%          9.000000\n50%         14.000000\n75%         26.000000\nmax         28.000000\nName: Outlet_Years, dtype: float64"
          },
          "metadata": {}
        }
      ],
      "execution_count": 28
    },
    {
      "cell_type": "code",
      "source": "Data Visualisation",
      "metadata": {
        "trusted": true
      },
      "outputs": [],
      "execution_count": null
    },
    {
      "cell_type": "code",
      "source": "data.info()",
      "metadata": {
        "trusted": true
      },
      "outputs": [
        {
          "name": "stdout",
          "text": "<class 'pandas.core.frame.DataFrame'>\nRangeIndex: 14204 entries, 0 to 14203\nData columns (total 15 columns):\n #   Column                     Non-Null Count  Dtype  \n---  ------                     --------------  -----  \n 0   Item_Identifier            14204 non-null  object \n 1   Item_Weight                14204 non-null  float64\n 2   Item_Fat_Content           14204 non-null  object \n 3   Item_Visibility            14204 non-null  float64\n 4   Item_Type                  14204 non-null  object \n 5   Item_MRP                   14204 non-null  float64\n 6   Outlet_Identifier          14204 non-null  object \n 7   Outlet_Establishment_Year  14204 non-null  int64  \n 8   Outlet_Size                10188 non-null  object \n 9   Outlet_Location_Type       14204 non-null  object \n 10  Outlet_Type                14204 non-null  object \n 11  Item_Outlet_Sales          8523 non-null   float64\n 12  source                     14204 non-null  object \n 13  Item_Type_Combined         14204 non-null  object \n 14  Outlet_Years               14204 non-null  int64  \ndtypes: float64(4), int64(2), object(9)\nmemory usage: 1.1+ MB\n",
          "output_type": "stream"
        }
      ],
      "execution_count": 29
    },
    {
      "cell_type": "code",
      "source": " Categorical Encoding: creation of dummy variables",
      "metadata": {
        "trusted": true
      },
      "outputs": [],
      "execution_count": null
    },
    {
      "cell_type": "code",
      "source": "#First creating a list of categorical columns\n\ncategorical_cols = []\nfor col in data.columns:\n    if data[col].dtype == 'object':\n        categorical_cols.append(col)\n        \nprint(categorical_cols)",
      "metadata": {
        "trusted": true
      },
      "outputs": [
        {
          "name": "stdout",
          "text": "['Item_Identifier', 'Item_Fat_Content', 'Item_Type', 'Outlet_Identifier', 'Outlet_Size', 'Outlet_Location_Type', 'Outlet_Type', 'source', 'Item_Type_Combined']\n",
          "output_type": "stream"
        }
      ],
      "execution_count": 33
    },
    {
      "cell_type": "code",
      "source": "#creating list of categorical variables whose dummies are required\n\ncat_cols = ['Item_Fat_Content', 'Outlet_Identifier', 'Outlet_Size', 'Outlet_Location_Type', 'Outlet_Type', 'Item_Type_Combined']",
      "metadata": {
        "trusted": true
      },
      "outputs": [],
      "execution_count": 34
    },
    {
      "cell_type": "code",
      "source": "#Creating Dummies for the categorical variables\n\nfor col in cat_cols:\n    dummies = pd.get_dummies(data[col], prefix=col, prefix_sep='_', drop_first=True, dtype=int)\n    data = pd.concat([data, dummies], axis=1)\n    data.drop(columns=[col], inplace=True)\n    \ndata.head()",
      "metadata": {
        "trusted": true
      },
      "outputs": [
        {
          "execution_count": 35,
          "output_type": "execute_result",
          "data": {
            "text/plain": "  Item_Identifier  Item_Weight  Item_Visibility              Item_Type  \\\n0           FDA15         9.30         0.016047                  Dairy   \n1           DRC01         5.92         0.019278            Soft Drinks   \n2           FDN15        17.50         0.016760                   Meat   \n3           FDX07        19.20         0.000000  Fruits and Vegetables   \n4           NCD19         8.93         0.000000              Household   \n\n   Item_MRP  Outlet_Establishment_Year  Item_Outlet_Sales source  \\\n0  249.8092                       1999          3735.1380  train   \n1   48.2692                       2009           443.4228  train   \n2  141.6180                       1999          2097.2700  train   \n3  182.0950                       1998           732.3800  train   \n4   53.8614                       1987           994.7052  train   \n\n   Outlet_Years  Item_Fat_Content_Non-Edible  ...  Outlet_Identifier_OUT049  \\\n0            14                            0  ...                         1   \n1             4                            0  ...                         0   \n2            14                            0  ...                         1   \n3            15                            0  ...                         0   \n4            26                            1  ...                         0   \n\n   Outlet_Size_Medium  Outlet_Size_Small  Outlet_Location_Type_Tier 2  \\\n0                   1                  0                            0   \n1                   1                  0                            0   \n2                   1                  0                            0   \n3                   0                  0                            0   \n4                   0                  0                            0   \n\n   Outlet_Location_Type_Tier 3  Outlet_Type_Supermarket Type1  \\\n0                            0                              1   \n1                            1                              0   \n2                            0                              1   \n3                            1                              0   \n4                            1                              1   \n\n   Outlet_Type_Supermarket Type2  Outlet_Type_Supermarket Type3  \\\n0                              0                              0   \n1                              1                              0   \n2                              0                              0   \n3                              0                              0   \n4                              0                              0   \n\n   Item_Type_Combined_Food  Item_Type_Combined_Non-Consumable  \n0                        1                                  0  \n1                        0                                  0  \n2                        1                                  0  \n3                        1                                  0  \n4                        0                                  1  \n\n[5 rows x 29 columns]",
            "text/html": "<div>\n<style scoped>\n    .dataframe tbody tr th:only-of-type {\n        vertical-align: middle;\n    }\n\n    .dataframe tbody tr th {\n        vertical-align: top;\n    }\n\n    .dataframe thead th {\n        text-align: right;\n    }\n</style>\n<table border=\"1\" class=\"dataframe\">\n  <thead>\n    <tr style=\"text-align: right;\">\n      <th></th>\n      <th>Item_Identifier</th>\n      <th>Item_Weight</th>\n      <th>Item_Visibility</th>\n      <th>Item_Type</th>\n      <th>Item_MRP</th>\n      <th>Outlet_Establishment_Year</th>\n      <th>Item_Outlet_Sales</th>\n      <th>source</th>\n      <th>Outlet_Years</th>\n      <th>Item_Fat_Content_Non-Edible</th>\n      <th>...</th>\n      <th>Outlet_Identifier_OUT049</th>\n      <th>Outlet_Size_Medium</th>\n      <th>Outlet_Size_Small</th>\n      <th>Outlet_Location_Type_Tier 2</th>\n      <th>Outlet_Location_Type_Tier 3</th>\n      <th>Outlet_Type_Supermarket Type1</th>\n      <th>Outlet_Type_Supermarket Type2</th>\n      <th>Outlet_Type_Supermarket Type3</th>\n      <th>Item_Type_Combined_Food</th>\n      <th>Item_Type_Combined_Non-Consumable</th>\n    </tr>\n  </thead>\n  <tbody>\n    <tr>\n      <th>0</th>\n      <td>FDA15</td>\n      <td>9.30</td>\n      <td>0.016047</td>\n      <td>Dairy</td>\n      <td>249.8092</td>\n      <td>1999</td>\n      <td>3735.1380</td>\n      <td>train</td>\n      <td>14</td>\n      <td>0</td>\n      <td>...</td>\n      <td>1</td>\n      <td>1</td>\n      <td>0</td>\n      <td>0</td>\n      <td>0</td>\n      <td>1</td>\n      <td>0</td>\n      <td>0</td>\n      <td>1</td>\n      <td>0</td>\n    </tr>\n    <tr>\n      <th>1</th>\n      <td>DRC01</td>\n      <td>5.92</td>\n      <td>0.019278</td>\n      <td>Soft Drinks</td>\n      <td>48.2692</td>\n      <td>2009</td>\n      <td>443.4228</td>\n      <td>train</td>\n      <td>4</td>\n      <td>0</td>\n      <td>...</td>\n      <td>0</td>\n      <td>1</td>\n      <td>0</td>\n      <td>0</td>\n      <td>1</td>\n      <td>0</td>\n      <td>1</td>\n      <td>0</td>\n      <td>0</td>\n      <td>0</td>\n    </tr>\n    <tr>\n      <th>2</th>\n      <td>FDN15</td>\n      <td>17.50</td>\n      <td>0.016760</td>\n      <td>Meat</td>\n      <td>141.6180</td>\n      <td>1999</td>\n      <td>2097.2700</td>\n      <td>train</td>\n      <td>14</td>\n      <td>0</td>\n      <td>...</td>\n      <td>1</td>\n      <td>1</td>\n      <td>0</td>\n      <td>0</td>\n      <td>0</td>\n      <td>1</td>\n      <td>0</td>\n      <td>0</td>\n      <td>1</td>\n      <td>0</td>\n    </tr>\n    <tr>\n      <th>3</th>\n      <td>FDX07</td>\n      <td>19.20</td>\n      <td>0.000000</td>\n      <td>Fruits and Vegetables</td>\n      <td>182.0950</td>\n      <td>1998</td>\n      <td>732.3800</td>\n      <td>train</td>\n      <td>15</td>\n      <td>0</td>\n      <td>...</td>\n      <td>0</td>\n      <td>0</td>\n      <td>0</td>\n      <td>0</td>\n      <td>1</td>\n      <td>0</td>\n      <td>0</td>\n      <td>0</td>\n      <td>1</td>\n      <td>0</td>\n    </tr>\n    <tr>\n      <th>4</th>\n      <td>NCD19</td>\n      <td>8.93</td>\n      <td>0.000000</td>\n      <td>Household</td>\n      <td>53.8614</td>\n      <td>1987</td>\n      <td>994.7052</td>\n      <td>train</td>\n      <td>26</td>\n      <td>1</td>\n      <td>...</td>\n      <td>0</td>\n      <td>0</td>\n      <td>0</td>\n      <td>0</td>\n      <td>1</td>\n      <td>1</td>\n      <td>0</td>\n      <td>0</td>\n      <td>0</td>\n      <td>1</td>\n    </tr>\n  </tbody>\n</table>\n<p>5 rows × 29 columns</p>\n</div>"
          },
          "metadata": {}
        }
      ],
      "execution_count": 35
    },
    {
      "cell_type": "code",
      "source": "data.info()",
      "metadata": {
        "trusted": true
      },
      "outputs": [
        {
          "name": "stdout",
          "text": "<class 'pandas.core.frame.DataFrame'>\nRangeIndex: 14204 entries, 0 to 14203\nData columns (total 29 columns):\n #   Column                             Non-Null Count  Dtype  \n---  ------                             --------------  -----  \n 0   Item_Identifier                    14204 non-null  object \n 1   Item_Weight                        14204 non-null  float64\n 2   Item_Visibility                    14204 non-null  float64\n 3   Item_Type                          14204 non-null  object \n 4   Item_MRP                           14204 non-null  float64\n 5   Outlet_Establishment_Year          14204 non-null  int64  \n 6   Item_Outlet_Sales                  8523 non-null   float64\n 7   source                             14204 non-null  object \n 8   Outlet_Years                       14204 non-null  int64  \n 9   Item_Fat_Content_Non-Edible        14204 non-null  int32  \n 10  Item_Fat_Content_Regular           14204 non-null  int32  \n 11  Outlet_Identifier_OUT013           14204 non-null  int32  \n 12  Outlet_Identifier_OUT017           14204 non-null  int32  \n 13  Outlet_Identifier_OUT018           14204 non-null  int32  \n 14  Outlet_Identifier_OUT019           14204 non-null  int32  \n 15  Outlet_Identifier_OUT027           14204 non-null  int32  \n 16  Outlet_Identifier_OUT035           14204 non-null  int32  \n 17  Outlet_Identifier_OUT045           14204 non-null  int32  \n 18  Outlet_Identifier_OUT046           14204 non-null  int32  \n 19  Outlet_Identifier_OUT049           14204 non-null  int32  \n 20  Outlet_Size_Medium                 14204 non-null  int32  \n 21  Outlet_Size_Small                  14204 non-null  int32  \n 22  Outlet_Location_Type_Tier 2        14204 non-null  int32  \n 23  Outlet_Location_Type_Tier 3        14204 non-null  int32  \n 24  Outlet_Type_Supermarket Type1      14204 non-null  int32  \n 25  Outlet_Type_Supermarket Type2      14204 non-null  int32  \n 26  Outlet_Type_Supermarket Type3      14204 non-null  int32  \n 27  Item_Type_Combined_Food            14204 non-null  int32  \n 28  Item_Type_Combined_Non-Consumable  14204 non-null  int32  \ndtypes: float64(4), int32(20), int64(2), object(3)\nmemory usage: 1.9+ MB\n",
          "output_type": "stream"
        }
      ],
      "execution_count": 36
    },
    {
      "cell_type": "code",
      "source": "We have prepared the data for modelling. Before Modelling we need to export the data back into train and test data sets. I",
      "metadata": {
        "trusted": true
      },
      "outputs": [],
      "execution_count": null
    },
    {
      "cell_type": "code",
      "source": "#Drop the columns which have been converted to different types:\ndata.drop(['Item_Type','Outlet_Establishment_Year'],axis=1,inplace=True)\n\n#Divide into test and train:\ntrain = data.loc[data['source']==\"train\"]\ntest = data.loc[data['source']==\"test\"]\n\n#Drop unnecessary columns:\ntest.drop(['source'],axis=1,inplace=True)\ntrain.drop(['source'],axis=1,inplace=True)",
      "metadata": {
        "trusted": true
      },
      "outputs": [],
      "execution_count": null
    },
    {
      "cell_type": "code",
      "source": "test.head()",
      "metadata": {
        "trusted": true
      },
      "outputs": [
        {
          "execution_count": 38,
          "output_type": "execute_result",
          "data": {
            "text/plain": "     Item_Identifier  Item_Weight  Item_Visibility  Item_MRP  \\\n8523           FDW58       20.750         0.007565  107.8622   \n8524           FDW14        8.300         0.038428   87.3198   \n8525           NCN55       14.600         0.099575  241.7538   \n8526           FDQ58        7.315         0.015388  155.0340   \n8527           FDY38       13.600         0.118599  234.2300   \n\n      Item_Outlet_Sales  Outlet_Years  Item_Fat_Content_Non-Edible  \\\n8523                NaN            14                            0   \n8524                NaN             6                            0   \n8525                NaN            15                            1   \n8526                NaN             6                            0   \n8527                NaN            28                            0   \n\n      Item_Fat_Content_Regular  Outlet_Identifier_OUT013  \\\n8523                         0                         0   \n8524                         1                         0   \n8525                         0                         0   \n8526                         0                         0   \n8527                         1                         0   \n\n      Outlet_Identifier_OUT017  ...  Outlet_Identifier_OUT049  \\\n8523                         0  ...                         1   \n8524                         1  ...                         0   \n8525                         0  ...                         0   \n8526                         1  ...                         0   \n8527                         0  ...                         0   \n\n      Outlet_Size_Medium  Outlet_Size_Small  Outlet_Location_Type_Tier 2  \\\n8523                   1                  0                            0   \n8524                   0                  0                            1   \n8525                   0                  0                            0   \n8526                   0                  0                            1   \n8527                   1                  0                            0   \n\n      Outlet_Location_Type_Tier 3  Outlet_Type_Supermarket Type1  \\\n8523                            0                              1   \n8524                            0                              1   \n8525                            1                              0   \n8526                            0                              1   \n8527                            1                              0   \n\n      Outlet_Type_Supermarket Type2  Outlet_Type_Supermarket Type3  \\\n8523                              0                              0   \n8524                              0                              0   \n8525                              0                              0   \n8526                              0                              0   \n8527                              0                              1   \n\n      Item_Type_Combined_Food  Item_Type_Combined_Non-Consumable  \n8523                        1                                  0  \n8524                        1                                  0  \n8525                        0                                  1  \n8526                        1                                  0  \n8527                        1                                  0  \n\n[5 rows x 26 columns]",
            "text/html": "<div>\n<style scoped>\n    .dataframe tbody tr th:only-of-type {\n        vertical-align: middle;\n    }\n\n    .dataframe tbody tr th {\n        vertical-align: top;\n    }\n\n    .dataframe thead th {\n        text-align: right;\n    }\n</style>\n<table border=\"1\" class=\"dataframe\">\n  <thead>\n    <tr style=\"text-align: right;\">\n      <th></th>\n      <th>Item_Identifier</th>\n      <th>Item_Weight</th>\n      <th>Item_Visibility</th>\n      <th>Item_MRP</th>\n      <th>Item_Outlet_Sales</th>\n      <th>Outlet_Years</th>\n      <th>Item_Fat_Content_Non-Edible</th>\n      <th>Item_Fat_Content_Regular</th>\n      <th>Outlet_Identifier_OUT013</th>\n      <th>Outlet_Identifier_OUT017</th>\n      <th>...</th>\n      <th>Outlet_Identifier_OUT049</th>\n      <th>Outlet_Size_Medium</th>\n      <th>Outlet_Size_Small</th>\n      <th>Outlet_Location_Type_Tier 2</th>\n      <th>Outlet_Location_Type_Tier 3</th>\n      <th>Outlet_Type_Supermarket Type1</th>\n      <th>Outlet_Type_Supermarket Type2</th>\n      <th>Outlet_Type_Supermarket Type3</th>\n      <th>Item_Type_Combined_Food</th>\n      <th>Item_Type_Combined_Non-Consumable</th>\n    </tr>\n  </thead>\n  <tbody>\n    <tr>\n      <th>8523</th>\n      <td>FDW58</td>\n      <td>20.750</td>\n      <td>0.007565</td>\n      <td>107.8622</td>\n      <td>NaN</td>\n      <td>14</td>\n      <td>0</td>\n      <td>0</td>\n      <td>0</td>\n      <td>0</td>\n      <td>...</td>\n      <td>1</td>\n      <td>1</td>\n      <td>0</td>\n      <td>0</td>\n      <td>0</td>\n      <td>1</td>\n      <td>0</td>\n      <td>0</td>\n      <td>1</td>\n      <td>0</td>\n    </tr>\n    <tr>\n      <th>8524</th>\n      <td>FDW14</td>\n      <td>8.300</td>\n      <td>0.038428</td>\n      <td>87.3198</td>\n      <td>NaN</td>\n      <td>6</td>\n      <td>0</td>\n      <td>1</td>\n      <td>0</td>\n      <td>1</td>\n      <td>...</td>\n      <td>0</td>\n      <td>0</td>\n      <td>0</td>\n      <td>1</td>\n      <td>0</td>\n      <td>1</td>\n      <td>0</td>\n      <td>0</td>\n      <td>1</td>\n      <td>0</td>\n    </tr>\n    <tr>\n      <th>8525</th>\n      <td>NCN55</td>\n      <td>14.600</td>\n      <td>0.099575</td>\n      <td>241.7538</td>\n      <td>NaN</td>\n      <td>15</td>\n      <td>1</td>\n      <td>0</td>\n      <td>0</td>\n      <td>0</td>\n      <td>...</td>\n      <td>0</td>\n      <td>0</td>\n      <td>0</td>\n      <td>0</td>\n      <td>1</td>\n      <td>0</td>\n      <td>0</td>\n      <td>0</td>\n      <td>0</td>\n      <td>1</td>\n    </tr>\n    <tr>\n      <th>8526</th>\n      <td>FDQ58</td>\n      <td>7.315</td>\n      <td>0.015388</td>\n      <td>155.0340</td>\n      <td>NaN</td>\n      <td>6</td>\n      <td>0</td>\n      <td>0</td>\n      <td>0</td>\n      <td>1</td>\n      <td>...</td>\n      <td>0</td>\n      <td>0</td>\n      <td>0</td>\n      <td>1</td>\n      <td>0</td>\n      <td>1</td>\n      <td>0</td>\n      <td>0</td>\n      <td>1</td>\n      <td>0</td>\n    </tr>\n    <tr>\n      <th>8527</th>\n      <td>FDY38</td>\n      <td>13.600</td>\n      <td>0.118599</td>\n      <td>234.2300</td>\n      <td>NaN</td>\n      <td>28</td>\n      <td>0</td>\n      <td>1</td>\n      <td>0</td>\n      <td>0</td>\n      <td>...</td>\n      <td>0</td>\n      <td>1</td>\n      <td>0</td>\n      <td>0</td>\n      <td>1</td>\n      <td>0</td>\n      <td>0</td>\n      <td>1</td>\n      <td>1</td>\n      <td>0</td>\n    </tr>\n  </tbody>\n</table>\n<p>5 rows × 26 columns</p>\n</div>"
          },
          "metadata": {}
        }
      ],
      "execution_count": 38
    },
    {
      "cell_type": "code",
      "source": "train.head()",
      "metadata": {
        "trusted": true
      },
      "outputs": [
        {
          "execution_count": 39,
          "output_type": "execute_result",
          "data": {
            "text/plain": "  Item_Identifier  Item_Weight  Item_Visibility  Item_MRP  Item_Outlet_Sales  \\\n0           FDA15         9.30         0.016047  249.8092          3735.1380   \n1           DRC01         5.92         0.019278   48.2692           443.4228   \n2           FDN15        17.50         0.016760  141.6180          2097.2700   \n3           FDX07        19.20         0.000000  182.0950           732.3800   \n4           NCD19         8.93         0.000000   53.8614           994.7052   \n\n   Outlet_Years  Item_Fat_Content_Non-Edible  Item_Fat_Content_Regular  \\\n0            14                            0                         0   \n1             4                            0                         1   \n2            14                            0                         0   \n3            15                            0                         1   \n4            26                            1                         0   \n\n   Outlet_Identifier_OUT013  Outlet_Identifier_OUT017  ...  \\\n0                         0                         0  ...   \n1                         0                         0  ...   \n2                         0                         0  ...   \n3                         0                         0  ...   \n4                         1                         0  ...   \n\n   Outlet_Identifier_OUT049  Outlet_Size_Medium  Outlet_Size_Small  \\\n0                         1                   1                  0   \n1                         0                   1                  0   \n2                         1                   1                  0   \n3                         0                   0                  0   \n4                         0                   0                  0   \n\n   Outlet_Location_Type_Tier 2  Outlet_Location_Type_Tier 3  \\\n0                            0                            0   \n1                            0                            1   \n2                            0                            0   \n3                            0                            1   \n4                            0                            1   \n\n   Outlet_Type_Supermarket Type1  Outlet_Type_Supermarket Type2  \\\n0                              1                              0   \n1                              0                              1   \n2                              1                              0   \n3                              0                              0   \n4                              1                              0   \n\n   Outlet_Type_Supermarket Type3  Item_Type_Combined_Food  \\\n0                              0                        1   \n1                              0                        0   \n2                              0                        1   \n3                              0                        1   \n4                              0                        0   \n\n   Item_Type_Combined_Non-Consumable  \n0                                  0  \n1                                  0  \n2                                  0  \n3                                  0  \n4                                  1  \n\n[5 rows x 26 columns]",
            "text/html": "<div>\n<style scoped>\n    .dataframe tbody tr th:only-of-type {\n        vertical-align: middle;\n    }\n\n    .dataframe tbody tr th {\n        vertical-align: top;\n    }\n\n    .dataframe thead th {\n        text-align: right;\n    }\n</style>\n<table border=\"1\" class=\"dataframe\">\n  <thead>\n    <tr style=\"text-align: right;\">\n      <th></th>\n      <th>Item_Identifier</th>\n      <th>Item_Weight</th>\n      <th>Item_Visibility</th>\n      <th>Item_MRP</th>\n      <th>Item_Outlet_Sales</th>\n      <th>Outlet_Years</th>\n      <th>Item_Fat_Content_Non-Edible</th>\n      <th>Item_Fat_Content_Regular</th>\n      <th>Outlet_Identifier_OUT013</th>\n      <th>Outlet_Identifier_OUT017</th>\n      <th>...</th>\n      <th>Outlet_Identifier_OUT049</th>\n      <th>Outlet_Size_Medium</th>\n      <th>Outlet_Size_Small</th>\n      <th>Outlet_Location_Type_Tier 2</th>\n      <th>Outlet_Location_Type_Tier 3</th>\n      <th>Outlet_Type_Supermarket Type1</th>\n      <th>Outlet_Type_Supermarket Type2</th>\n      <th>Outlet_Type_Supermarket Type3</th>\n      <th>Item_Type_Combined_Food</th>\n      <th>Item_Type_Combined_Non-Consumable</th>\n    </tr>\n  </thead>\n  <tbody>\n    <tr>\n      <th>0</th>\n      <td>FDA15</td>\n      <td>9.30</td>\n      <td>0.016047</td>\n      <td>249.8092</td>\n      <td>3735.1380</td>\n      <td>14</td>\n      <td>0</td>\n      <td>0</td>\n      <td>0</td>\n      <td>0</td>\n      <td>...</td>\n      <td>1</td>\n      <td>1</td>\n      <td>0</td>\n      <td>0</td>\n      <td>0</td>\n      <td>1</td>\n      <td>0</td>\n      <td>0</td>\n      <td>1</td>\n      <td>0</td>\n    </tr>\n    <tr>\n      <th>1</th>\n      <td>DRC01</td>\n      <td>5.92</td>\n      <td>0.019278</td>\n      <td>48.2692</td>\n      <td>443.4228</td>\n      <td>4</td>\n      <td>0</td>\n      <td>1</td>\n      <td>0</td>\n      <td>0</td>\n      <td>...</td>\n      <td>0</td>\n      <td>1</td>\n      <td>0</td>\n      <td>0</td>\n      <td>1</td>\n      <td>0</td>\n      <td>1</td>\n      <td>0</td>\n      <td>0</td>\n      <td>0</td>\n    </tr>\n    <tr>\n      <th>2</th>\n      <td>FDN15</td>\n      <td>17.50</td>\n      <td>0.016760</td>\n      <td>141.6180</td>\n      <td>2097.2700</td>\n      <td>14</td>\n      <td>0</td>\n      <td>0</td>\n      <td>0</td>\n      <td>0</td>\n      <td>...</td>\n      <td>1</td>\n      <td>1</td>\n      <td>0</td>\n      <td>0</td>\n      <td>0</td>\n      <td>1</td>\n      <td>0</td>\n      <td>0</td>\n      <td>1</td>\n      <td>0</td>\n    </tr>\n    <tr>\n      <th>3</th>\n      <td>FDX07</td>\n      <td>19.20</td>\n      <td>0.000000</td>\n      <td>182.0950</td>\n      <td>732.3800</td>\n      <td>15</td>\n      <td>0</td>\n      <td>1</td>\n      <td>0</td>\n      <td>0</td>\n      <td>...</td>\n      <td>0</td>\n      <td>0</td>\n      <td>0</td>\n      <td>0</td>\n      <td>1</td>\n      <td>0</td>\n      <td>0</td>\n      <td>0</td>\n      <td>1</td>\n      <td>0</td>\n    </tr>\n    <tr>\n      <th>4</th>\n      <td>NCD19</td>\n      <td>8.93</td>\n      <td>0.000000</td>\n      <td>53.8614</td>\n      <td>994.7052</td>\n      <td>26</td>\n      <td>1</td>\n      <td>0</td>\n      <td>1</td>\n      <td>0</td>\n      <td>...</td>\n      <td>0</td>\n      <td>0</td>\n      <td>0</td>\n      <td>0</td>\n      <td>1</td>\n      <td>1</td>\n      <td>0</td>\n      <td>0</td>\n      <td>0</td>\n      <td>1</td>\n    </tr>\n  </tbody>\n</table>\n<p>5 rows × 26 columns</p>\n</div>"
          },
          "metadata": {}
        }
      ],
      "execution_count": 39
    },
    {
      "cell_type": "code",
      "source": "We can see that our target variable 'sales' has high correlation with 'MRP'.\nNow the number of variables is 24, which is pretty high. So we shall use hybrid method of modelling. We will first use Automatic method to reduce the number of variables from 24 to 12 and then use Manual method to reduce further.\nWe will be checking VIF again and again so we shall create a function for checking.",
      "metadata": {
        "trusted": true
      },
      "outputs": [],
      "execution_count": null
    },
    {
      "cell_type": "code",
      "source": "def calculateVIF(df):\n    vif = pd.DataFrame()\n    vif['Features'] = df.columns\n    vif['VIF'] = [variance_inflation_factor(df.values, i) for i in range(df.shape[1])]\n    vif['VIF'] = round(vif['VIF'], 2)\n    vif = vif.sort_values(by = \"VIF\", ascending = False)\n    return vif",
      "metadata": {
        "trusted": true
      },
      "outputs": [],
      "execution_count": null
    },
    {
      "cell_type": "code",
      "source": "Model 1: Model Building using all the variables",
      "metadata": {
        "trusted": true
      },
      "outputs": [],
      "execution_count": null
    }
  ]
}